{
 "cells": [
  {
   "cell_type": "markdown",
   "metadata": {},
   "source": [
    "<center>\n",
    "<hr>\n",
    "<h2> Handwritten Digits Image Classification </h2>\n",
    "<hr>\n",
    "</center>"
   ]
  },
  {
   "cell_type": "markdown",
   "metadata": {},
   "source": [
    "* In this assignment, you will investigate the handwritten digits dataset.\n",
    "* Sample images:\n",
    "<img src=\"https://upload.wikimedia.org/wikipedia/commons/2/27/MnistExamples.png\">\n",
    "\n",
    "<h4>Method 1: KNN</h4>\n",
    "<h4>Method 2: Linear SVM</h4>\n",
    "<h4>Method 3: Gaussian Kernel SVM</h4>\n",
    "<h4>Method 4: Naive Bayes</h4>\n",
    "<h4>Method 5: Decision Tree</h4>   \n",
    "<h4>Method 6: Random Forest</h4> \n",
    "<h4>Method 7: Voting Classifier</h4> \n",
    "<h4>Method 8: Bagging</h4> "
   ]
  },
  {
   "cell_type": "code",
   "execution_count": 1,
   "metadata": {
    "scrolled": true
   },
   "outputs": [
    {
     "name": "stdout",
     "output_type": "stream",
     "text": [
      "{'data': array([[ 0.,  0.,  5., ...,  0.,  0.,  0.],\n",
      "       [ 0.,  0.,  0., ..., 10.,  0.,  0.],\n",
      "       [ 0.,  0.,  0., ..., 16.,  9.,  0.],\n",
      "       ...,\n",
      "       [ 0.,  0.,  1., ...,  6.,  0.,  0.],\n",
      "       [ 0.,  0.,  2., ..., 12.,  0.,  0.],\n",
      "       [ 0.,  0., 10., ..., 12.,  1.,  0.]]), 'target': array([0, 1, 2, ..., 8, 9, 8]), 'target_names': array([0, 1, 2, 3, 4, 5, 6, 7, 8, 9]), 'images': array([[[ 0.,  0.,  5., ...,  1.,  0.,  0.],\n",
      "        [ 0.,  0., 13., ..., 15.,  5.,  0.],\n",
      "        [ 0.,  3., 15., ..., 11.,  8.,  0.],\n",
      "        ...,\n",
      "        [ 0.,  4., 11., ..., 12.,  7.,  0.],\n",
      "        [ 0.,  2., 14., ..., 12.,  0.,  0.],\n",
      "        [ 0.,  0.,  6., ...,  0.,  0.,  0.]],\n",
      "\n",
      "       [[ 0.,  0.,  0., ...,  5.,  0.,  0.],\n",
      "        [ 0.,  0.,  0., ...,  9.,  0.,  0.],\n",
      "        [ 0.,  0.,  3., ...,  6.,  0.,  0.],\n",
      "        ...,\n",
      "        [ 0.,  0.,  1., ...,  6.,  0.,  0.],\n",
      "        [ 0.,  0.,  1., ...,  6.,  0.,  0.],\n",
      "        [ 0.,  0.,  0., ..., 10.,  0.,  0.]],\n",
      "\n",
      "       [[ 0.,  0.,  0., ..., 12.,  0.,  0.],\n",
      "        [ 0.,  0.,  3., ..., 14.,  0.,  0.],\n",
      "        [ 0.,  0.,  8., ..., 16.,  0.,  0.],\n",
      "        ...,\n",
      "        [ 0.,  9., 16., ...,  0.,  0.,  0.],\n",
      "        [ 0.,  3., 13., ..., 11.,  5.,  0.],\n",
      "        [ 0.,  0.,  0., ..., 16.,  9.,  0.]],\n",
      "\n",
      "       ...,\n",
      "\n",
      "       [[ 0.,  0.,  1., ...,  1.,  0.,  0.],\n",
      "        [ 0.,  0., 13., ...,  2.,  1.,  0.],\n",
      "        [ 0.,  0., 16., ..., 16.,  5.,  0.],\n",
      "        ...,\n",
      "        [ 0.,  0., 16., ..., 15.,  0.,  0.],\n",
      "        [ 0.,  0., 15., ..., 16.,  0.,  0.],\n",
      "        [ 0.,  0.,  2., ...,  6.,  0.,  0.]],\n",
      "\n",
      "       [[ 0.,  0.,  2., ...,  0.,  0.,  0.],\n",
      "        [ 0.,  0., 14., ..., 15.,  1.,  0.],\n",
      "        [ 0.,  4., 16., ..., 16.,  7.,  0.],\n",
      "        ...,\n",
      "        [ 0.,  0.,  0., ..., 16.,  2.,  0.],\n",
      "        [ 0.,  0.,  4., ..., 16.,  2.,  0.],\n",
      "        [ 0.,  0.,  5., ..., 12.,  0.,  0.]],\n",
      "\n",
      "       [[ 0.,  0., 10., ...,  1.,  0.,  0.],\n",
      "        [ 0.,  2., 16., ...,  1.,  0.,  0.],\n",
      "        [ 0.,  0., 15., ..., 15.,  0.,  0.],\n",
      "        ...,\n",
      "        [ 0.,  4., 16., ..., 16.,  6.,  0.],\n",
      "        [ 0.,  8., 16., ..., 16.,  8.,  0.],\n",
      "        [ 0.,  1.,  8., ..., 12.,  1.,  0.]]]), 'DESCR': \".. _digits_dataset:\\n\\nOptical recognition of handwritten digits dataset\\n--------------------------------------------------\\n\\n**Data Set Characteristics:**\\n\\n    :Number of Instances: 5620\\n    :Number of Attributes: 64\\n    :Attribute Information: 8x8 image of integer pixels in the range 0..16.\\n    :Missing Attribute Values: None\\n    :Creator: E. Alpaydin (alpaydin '@' boun.edu.tr)\\n    :Date: July; 1998\\n\\nThis is a copy of the test set of the UCI ML hand-written digits datasets\\nhttps://archive.ics.uci.edu/ml/datasets/Optical+Recognition+of+Handwritten+Digits\\n\\nThe data set contains images of hand-written digits: 10 classes where\\neach class refers to a digit.\\n\\nPreprocessing programs made available by NIST were used to extract\\nnormalized bitmaps of handwritten digits from a preprinted form. From a\\ntotal of 43 people, 30 contributed to the training set and different 13\\nto the test set. 32x32 bitmaps are divided into nonoverlapping blocks of\\n4x4 and the number of on pixels are counted in each block. This generates\\nan input matrix of 8x8 where each element is an integer in the range\\n0..16. This reduces dimensionality and gives invariance to small\\ndistortions.\\n\\nFor info on NIST preprocessing routines, see M. D. Garris, J. L. Blue, G.\\nT. Candela, D. L. Dimmick, J. Geist, P. J. Grother, S. A. Janet, and C.\\nL. Wilson, NIST Form-Based Handprint Recognition System, NISTIR 5469,\\n1994.\\n\\n.. topic:: References\\n\\n  - C. Kaynak (1995) Methods of Combining Multiple Classifiers and Their\\n    Applications to Handwritten Digit Recognition, MSc Thesis, Institute of\\n    Graduate Studies in Science and Engineering, Bogazici University.\\n  - E. Alpaydin, C. Kaynak (1998) Cascading Classifiers, Kybernetika.\\n  - Ken Tang and Ponnuthurai N. Suganthan and Xi Yao and A. Kai Qin.\\n    Linear dimensionalityreduction using relevance weighted LDA. School of\\n    Electrical and Electronic Engineering Nanyang Technological University.\\n    2005.\\n  - Claudio Gentile. A New Approximate Maximal Margin Classification\\n    Algorithm. NIPS. 2000.\"}\n"
     ]
    }
   ],
   "source": [
    "# Importing the dataset\n",
    "from sklearn.datasets import load_digits\n",
    "digits = load_digits()\n",
    "print(digits)"
   ]
  },
  {
   "cell_type": "code",
   "execution_count": 3,
   "metadata": {},
   "outputs": [],
   "source": [
    "import matplotlib.pyplot as plt\n",
    "digits.images[0].shape\n",
    "list = [10,100,100,45]\n",
    "fig = plt.figure()\n",
    "for i,j in enumerate(list):\n",
    "    plt.subplot(2,2,i+1)\n",
    "    plt.imshow(digits.images[j],cmap='gray')"
   ]
  },
  {
   "cell_type": "code",
   "execution_count": 4,
   "metadata": {},
   "outputs": [],
   "source": [
    "X =  digits.data\n",
    "y =  digits.target"
   ]
  },
  {
   "cell_type": "code",
   "execution_count": 5,
   "metadata": {},
   "outputs": [
    {
     "name": "stdout",
     "output_type": "stream",
     "text": [
      "0\n",
      "[[ 0.  0.  5. 13.  9.  1.  0.  0.]\n",
      " [ 0.  0. 13. 15. 10. 15.  5.  0.]\n",
      " [ 0.  3. 15.  2.  0. 11.  8.  0.]\n",
      " [ 0.  4. 12.  0.  0.  8.  8.  0.]\n",
      " [ 0.  5.  8.  0.  0.  9.  8.  0.]\n",
      " [ 0.  4. 11.  0.  1. 12.  7.  0.]\n",
      " [ 0.  2. 14.  5. 10. 12.  0.  0.]\n",
      " [ 0.  0.  6. 13. 10.  0.  0.  0.]]\n",
      "(1797, 8, 8)\n",
      "(1797, 64)\n"
     ]
    }
   ],
   "source": [
    "\n",
    "print(digits.target[0])\n",
    "print(digits.images[0])\n",
    "print(digits.images.shape)\n",
    "print(digits.data.shape)"
   ]
  },
  {
   "cell_type": "code",
   "execution_count": 6,
   "metadata": {},
   "outputs": [
    {
     "name": "stdout",
     "output_type": "stream",
     "text": [
      "[0 1 2 ... 8 9 8]\n"
     ]
    }
   ],
   "source": [
    "print(digits.target)"
   ]
  },
  {
   "cell_type": "markdown",
   "metadata": {
    "collapsed": true
   },
   "source": [
    "## Step 1. Split the dataset into training data and testing data "
   ]
  },
  {
   "cell_type": "code",
   "execution_count": 7,
   "metadata": {},
   "outputs": [],
   "source": [
    "# Splitting the dataset into the Training set and Test set\n",
    "from sklearn.model_selection import train_test_split\n",
    "X_train, X_test, y_train, y_test = train_test_split(X,y, test_size = 0.1, random_state = 3)"
   ]
  },
  {
   "cell_type": "markdown",
   "metadata": {},
   "source": [
    "## Step 2. Algorithm Analysis "
   ]
  },
  {
   "cell_type": "markdown",
   "metadata": {},
   "source": [
    "## Method 1. KNN"
   ]
  },
  {
   "cell_type": "code",
   "execution_count": 8,
   "metadata": {},
   "outputs": [
    {
     "name": "stdout",
     "output_type": "stream",
     "text": [
      "Testing Accuracy: 0.99\n",
      "              precision    recall  f1-score   support\n",
      "\n",
      "           0       1.00      1.00      1.00        26\n",
      "           1       1.00      1.00      1.00        15\n",
      "           2       1.00      1.00      1.00        17\n",
      "           3       1.00      1.00      1.00        16\n",
      "           4       1.00      0.95      0.98        22\n",
      "           5       1.00      1.00      1.00        16\n",
      "           6       1.00      1.00      1.00        13\n",
      "           7       0.96      1.00      0.98        22\n",
      "           8       1.00      1.00      1.00        17\n",
      "           9       1.00      1.00      1.00        16\n",
      "\n",
      "    accuracy                           0.99       180\n",
      "   macro avg       1.00      1.00      1.00       180\n",
      "weighted avg       0.99      0.99      0.99       180\n",
      "\n"
     ]
    }
   ],
   "source": [
    "# Create your classifier here\n",
    "from sklearn.neighbors import KNeighborsClassifier\n",
    "from sklearn.metrics import classification_report\n",
    "from sklearn.metrics import precision_score\n",
    "from sklearn.metrics import recall_score\n",
    "knn = KNeighborsClassifier(n_neighbors = 3, p=2)\n",
    "# Fitting knn to the Training set\n",
    "knn.fit(X_train,y_train)\n",
    "# Predicting the Test set results\n",
    "y_pred = knn.predict(X_test)\n",
    "\n",
    "#print test accuracy\n",
    "print(\"Testing Accuracy: {:.2f}\".format(knn.score(X_test,y_test)))\n",
    "\n",
    "#print classification report\n",
    "report = classification_report(y_test, y_pred)\n",
    "print(report)"
   ]
  },
  {
   "cell_type": "markdown",
   "metadata": {},
   "source": [
    "## Method 2. Linear SVM"
   ]
  },
  {
   "cell_type": "code",
   "execution_count": 9,
   "metadata": {},
   "outputs": [
    {
     "name": "stdout",
     "output_type": "stream",
     "text": [
      "testing accuracy: 0.99\n",
      "              precision    recall  f1-score   support\n",
      "\n",
      "           0       1.00      1.00      1.00        26\n",
      "           1       0.94      1.00      0.97        15\n",
      "           2       1.00      1.00      1.00        17\n",
      "           3       1.00      1.00      1.00        16\n",
      "           4       1.00      1.00      1.00        22\n",
      "           5       1.00      1.00      1.00        16\n",
      "           6       1.00      0.92      0.96        13\n",
      "           7       0.96      1.00      0.98        22\n",
      "           8       1.00      0.94      0.97        17\n",
      "           9       1.00      1.00      1.00        16\n",
      "\n",
      "    accuracy                           0.99       180\n",
      "   macro avg       0.99      0.99      0.99       180\n",
      "weighted avg       0.99      0.99      0.99       180\n",
      "\n"
     ]
    }
   ],
   "source": [
    "from sklearn.svm import SVC # \"Support vector classifier\"\n",
    "linear_svm = SVC(kernel='linear')\n",
    "# Fitting linear_svm to the Training set\n",
    "linear_svm.fit(X_train, y_train)\n",
    "# Predicting the Test set results\n",
    "y_pred = linear_svm.predict(X_test)\n",
    "\n",
    "#print test accuracy\n",
    "print(\"testing accuracy: {:.2f}\".format(linear_svm.score(X_test,y_test)))\n",
    "\n",
    "#print classification report\n",
    "report = classification_report(y_test, y_pred)\n",
    "print(report)"
   ]
  },
  {
   "cell_type": "markdown",
   "metadata": {},
   "source": [
    "## Method 3. Gaussian Kernal SVM"
   ]
  },
  {
   "cell_type": "code",
   "execution_count": 10,
   "metadata": {},
   "outputs": [
    {
     "name": "stderr",
     "output_type": "stream",
     "text": [
      "C:\\Users\\Aniket\\Anaconda3\\lib\\site-packages\\sklearn\\svm\\base.py:193: FutureWarning: The default value of gamma will change from 'auto' to 'scale' in version 0.22 to account better for unscaled features. Set gamma explicitly to 'auto' or 'scale' to avoid this warning.\n",
      "  \"avoid this warning.\", FutureWarning)\n"
     ]
    },
    {
     "name": "stdout",
     "output_type": "stream",
     "text": [
      "testing accuracy: 0.53\n",
      "              precision    recall  f1-score   support\n",
      "\n",
      "           0       1.00      0.58      0.73        26\n",
      "           1       1.00      0.47      0.64        15\n",
      "           2       1.00      0.53      0.69        17\n",
      "           3       1.00      0.75      0.86        16\n",
      "           4       1.00      0.45      0.62        22\n",
      "           5       0.16      1.00      0.27        16\n",
      "           6       1.00      0.54      0.70        13\n",
      "           7       1.00      0.27      0.43        22\n",
      "           8       1.00      0.18      0.30        17\n",
      "           9       1.00      0.62      0.77        16\n",
      "\n",
      "    accuracy                           0.53       180\n",
      "   macro avg       0.92      0.54      0.60       180\n",
      "weighted avg       0.93      0.53      0.60       180\n",
      "\n"
     ]
    }
   ],
   "source": [
    "kernal_rbf = SVC(kernel='rbf')\n",
    "# Fitting kernal_rbf to the Training set\n",
    "kernal_rbf.fit(X_train, y_train)\n",
    "# Predicting the Test set results\n",
    "y_pred = kernal_rbf.predict(X_test)\n",
    "\n",
    "#print test accuracy\n",
    "print(\"testing accuracy: {:.2f}\".format(kernal_rbf.score(X_test,y_test)))\n",
    "\n",
    "#print classification report\n",
    "report = classification_report(y_test, y_pred)\n",
    "print(report)"
   ]
  },
  {
   "cell_type": "markdown",
   "metadata": {},
   "source": [
    "## Method 4. Naive Bayes"
   ]
  },
  {
   "cell_type": "code",
   "execution_count": 11,
   "metadata": {},
   "outputs": [
    {
     "name": "stdout",
     "output_type": "stream",
     "text": [
      "testing accuracy: 0.86\n",
      "              precision    recall  f1-score   support\n",
      "\n",
      "           0       1.00      1.00      1.00        26\n",
      "           1       1.00      0.93      0.97        15\n",
      "           2       1.00      0.65      0.79        17\n",
      "           3       0.87      0.81      0.84        16\n",
      "           4       0.94      0.73      0.82        22\n",
      "           5       0.88      0.94      0.91        16\n",
      "           6       0.92      0.92      0.92        13\n",
      "           7       0.69      0.91      0.78        22\n",
      "           8       0.62      0.94      0.74        17\n",
      "           9       1.00      0.75      0.86        16\n",
      "\n",
      "    accuracy                           0.86       180\n",
      "   macro avg       0.89      0.86      0.86       180\n",
      "weighted avg       0.89      0.86      0.86       180\n",
      "\n"
     ]
    }
   ],
   "source": [
    "from sklearn.naive_bayes import GaussianNB\n",
    "nb_clf = GaussianNB()\n",
    "# Fitting nb_clf to the Training set\n",
    "nb_clf.fit(X_train, y_train)\n",
    "# Predicting the Test set results\n",
    "y_pred = nb_clf.predict(X_test)\n",
    "\n",
    "#print test accuracy\n",
    "print(\"testing accuracy: {:.2f}\".format(nb_clf.score(X_test,y_test)))\n",
    "\n",
    "#print classification report\n",
    "report = classification_report(y_test, y_pred)\n",
    "print(report)"
   ]
  },
  {
   "cell_type": "markdown",
   "metadata": {},
   "source": [
    "## Method 5. Decision Tree"
   ]
  },
  {
   "cell_type": "code",
   "execution_count": 12,
   "metadata": {},
   "outputs": [
    {
     "name": "stdout",
     "output_type": "stream",
     "text": [
      "testing accuracy: 0.89\n",
      "              precision    recall  f1-score   support\n",
      "\n",
      "           0       0.90      1.00      0.95        26\n",
      "           1       0.76      0.87      0.81        15\n",
      "           2       0.94      0.94      0.94        17\n",
      "           3       0.83      0.94      0.88        16\n",
      "           4       0.89      0.77      0.83        22\n",
      "           5       0.81      0.81      0.81        16\n",
      "           6       1.00      0.92      0.96        13\n",
      "           7       0.87      0.91      0.89        22\n",
      "           8       0.93      0.82      0.87        17\n",
      "           9       1.00      0.88      0.93        16\n",
      "\n",
      "    accuracy                           0.89       180\n",
      "   macro avg       0.89      0.89      0.89       180\n",
      "weighted avg       0.89      0.89      0.89       180\n",
      "\n"
     ]
    }
   ],
   "source": [
    "from sklearn.tree import DecisionTreeClassifier\n",
    "clf_dt = DecisionTreeClassifier()\n",
    "# Fitting clf_dt to the Training set\n",
    "clf_dt.fit(X_train, y_train)\n",
    "# Predicting the Test set results\n",
    "y_pred = clf_dt.predict(X_test)\n",
    "\n",
    "#print test accuracy\n",
    "print(\"testing accuracy: {:.2f}\".format(clf_dt.score(X_test,y_test)))\n",
    "\n",
    "#print classification report\n",
    "report = classification_report(y_test, y_pred)\n",
    "print(report)"
   ]
  },
  {
   "cell_type": "markdown",
   "metadata": {},
   "source": [
    "## Method 6. Random Forest"
   ]
  },
  {
   "cell_type": "code",
   "execution_count": 13,
   "metadata": {},
   "outputs": [
    {
     "name": "stdout",
     "output_type": "stream",
     "text": [
      "testing accuracy: 0.99\n",
      "              precision    recall  f1-score   support\n",
      "\n",
      "           0       1.00      1.00      1.00        26\n",
      "           1       1.00      1.00      1.00        15\n",
      "           2       1.00      1.00      1.00        17\n",
      "           3       1.00      1.00      1.00        16\n",
      "           4       0.95      0.95      0.95        22\n",
      "           5       1.00      0.94      0.97        16\n",
      "           6       1.00      1.00      1.00        13\n",
      "           7       0.96      1.00      0.98        22\n",
      "           8       1.00      1.00      1.00        17\n",
      "           9       1.00      1.00      1.00        16\n",
      "\n",
      "    accuracy                           0.99       180\n",
      "   macro avg       0.99      0.99      0.99       180\n",
      "weighted avg       0.99      0.99      0.99       180\n",
      "\n"
     ]
    }
   ],
   "source": [
    "from sklearn.ensemble import RandomForestClassifier\n",
    "rf = RandomForestClassifier(n_estimators = 300)\n",
    "# Fitting rf to the Training set\n",
    "rf.fit(X_train, y_train)\n",
    "# Predicting the Test set results\n",
    "y_pred = rf.predict(X_test)\n",
    "\n",
    "#print test accuracy\n",
    "print(\"testing accuracy: {:.2f}\".format(rf.score(X_test,y_test)))\n",
    "\n",
    "#print classification report\n",
    "report = classification_report(y_test, y_pred)\n",
    "print(report)"
   ]
  },
  {
   "cell_type": "markdown",
   "metadata": {
    "collapsed": true
   },
   "source": [
    "## Method 7. Voting Classifier"
   ]
  },
  {
   "cell_type": "code",
   "execution_count": 14,
   "metadata": {},
   "outputs": [
    {
     "name": "stderr",
     "output_type": "stream",
     "text": [
      "C:\\Users\\Aniket\\Anaconda3\\lib\\site-packages\\sklearn\\svm\\base.py:193: FutureWarning: The default value of gamma will change from 'auto' to 'scale' in version 0.22 to account better for unscaled features. Set gamma explicitly to 'auto' or 'scale' to avoid this warning.\n",
      "  \"avoid this warning.\", FutureWarning)\n"
     ]
    },
    {
     "name": "stdout",
     "output_type": "stream",
     "text": [
      "testing accuracy: 0.99\n",
      "              precision    recall  f1-score   support\n",
      "\n",
      "           0       1.00      1.00      1.00        26\n",
      "           1       1.00      1.00      1.00        15\n",
      "           2       1.00      1.00      1.00        17\n",
      "           3       1.00      1.00      1.00        16\n",
      "           4       1.00      0.95      0.98        22\n",
      "           5       1.00      1.00      1.00        16\n",
      "           6       1.00      1.00      1.00        13\n",
      "           7       0.92      1.00      0.96        22\n",
      "           8       1.00      0.94      0.97        17\n",
      "           9       1.00      1.00      1.00        16\n",
      "\n",
      "    accuracy                           0.99       180\n",
      "   macro avg       0.99      0.99      0.99       180\n",
      "weighted avg       0.99      0.99      0.99       180\n",
      "\n"
     ]
    }
   ],
   "source": [
    "from sklearn.ensemble import VotingClassifier\n",
    "#Instantiate a VotingClassifier 'vc'\n",
    "SEED = 1\n",
    "rf = RandomForestClassifier(n_estimators = 300)\n",
    "knn = KNeighborsClassifier(n_neighbors = 3, p = 2)\n",
    "dt = DecisionTreeClassifier(random_state = SEED)\n",
    "nb = GaussianNB()\n",
    "kernal_rbf = SVC(kernel='rbf')\n",
    "linear_svm = SVC(kernel='linear')\n",
    "#Define a list called classifier that contains\n",
    "#the tuples (classifier_name, classifier)\n",
    "classifiers = [('Random Forest',rf),\n",
    "               ('K Nearest Neighbours',knn),\n",
    "               ('Classification Tree',dt),\n",
    "               ('Naive',nb),\n",
    "               ('RBF',kernal_rbf),\n",
    "               ('SVM',linear_svm)]\n",
    "vc = VotingClassifier(estimators=classifiers)\n",
    "#Fit 'vc' to the train set\n",
    "vc.fit(X_train,y_train)\n",
    "#Predict test set labels\n",
    "y_pred = vc.predict(X_test)\n",
    "\n",
    "#print test accuracy\n",
    "print(\"testing accuracy: {:.2f}\".format(vc.score(X_test,y_test)))\n",
    "\n",
    "#print classification report\n",
    "report = classification_report(y_test, y_pred)\n",
    "print(report)"
   ]
  },
  {
   "cell_type": "markdown",
   "metadata": {
    "collapsed": true
   },
   "source": [
    "## Method 8. Bagging"
   ]
  },
  {
   "cell_type": "code",
   "execution_count": 15,
   "metadata": {},
   "outputs": [
    {
     "name": "stdout",
     "output_type": "stream",
     "text": [
      "testing accuracy: 0.99\n",
      "              precision    recall  f1-score   support\n",
      "\n",
      "           0       1.00      1.00      1.00        26\n",
      "           1       1.00      1.00      1.00        15\n",
      "           2       1.00      1.00      1.00        17\n",
      "           3       1.00      1.00      1.00        16\n",
      "           4       1.00      0.95      0.98        22\n",
      "           5       1.00      1.00      1.00        16\n",
      "           6       1.00      1.00      1.00        13\n",
      "           7       0.96      1.00      0.98        22\n",
      "           8       1.00      1.00      1.00        17\n",
      "           9       1.00      1.00      1.00        16\n",
      "\n",
      "    accuracy                           0.99       180\n",
      "   macro avg       1.00      1.00      1.00       180\n",
      "weighted avg       0.99      0.99      0.99       180\n",
      "\n"
     ]
    }
   ],
   "source": [
    "from sklearn.ensemble import BaggingClassifier\n",
    "# Instantiate a classifier KNN\n",
    "knn = KNeighborsClassifier(n_neighbors = 3, p = 2)\n",
    "# Instantiate a BaggingClassifier 'bc'\n",
    "bc = BaggingClassifier(base_estimator=knn, n_estimators = 100,\n",
    "                       n_jobs=-1)\n",
    "#Fit 'bc' to the train set\n",
    "bc.fit(X_train,y_train)\n",
    "#Predict test set labels\n",
    "y_pred = bc.predict(X_test)\n",
    "\n",
    "#print test accuracy\n",
    "print(\"testing accuracy: {:.2f}\".format(bc.score(X_test,y_test)))\n",
    "\n",
    "#print classification report\n",
    "report = classification_report(y_test, y_pred)\n",
    "print(report)"
   ]
  },
  {
   "cell_type": "markdown",
   "metadata": {
    "collapsed": true
   },
   "source": [
    "## Step 3: Accuracy Results Table "
   ]
  },
  {
   "cell_type": "markdown",
   "metadata": {
    "collapsed": true
   },
   "source": [
    "<table>\n",
    "    <thead>\n",
    "        <tr>\n",
    "            <th></th>\n",
    "            <th>KNN</th>\n",
    "            <th>L_SVM</th>\n",
    "            <th>RBF_SVM</th>\n",
    "            <th>NB</th>\n",
    "            <th>DT</th>\n",
    "            <th>RF</th>\n",
    "            <th>Voting</th>\n",
    "            <th>Bagging</th>\n",
    "        </tr>\n",
    "    </thead>\n",
    "    <tbody>\n",
    "        <tr>\n",
    "            <td>Accuracy</td>\n",
    "            <td>0.99</td>\n",
    "            <td>0.99</td>\n",
    "            <td>0.53</td>\n",
    "            <td>0.86</td>\n",
    "            <td>0.89</td>\n",
    "            <td>0.99</td>\n",
    "            <td>0.99</td>\n",
    "            <td>0.99</td>\n",
    "        </tr>\n",
    "        <tr>\n",
    "            <td>Weighted Precision</td>\n",
    "            <td>1.00</td>\n",
    "            <td>0.99</td>\n",
    "            <td>0.92</td>\n",
    "            <td>0.89</td>\n",
    "            <td>0.89</td>\n",
    "            <td>0.99</td>\n",
    "            <td>0.99</td>\n",
    "            <td>1.00</td>\n",
    "        </tr>\n",
    "        <tr>\n",
    "            <td>Weighted Recall</td>\n",
    "            <td>1.00</td>\n",
    "            <td>0.99</td>\n",
    "            <td>0.93</td>\n",
    "            <td>0.89</td>\n",
    "            <td>0.89</td>\n",
    "            <td>0.99</td>\n",
    "            <td>0.99</td>\n",
    "            <td>0.99</td>\n",
    "        </tr>\n",
    "    </tbody>\n",
    "</table>"
   ]
  },
  {
   "cell_type": "markdown",
   "metadata": {},
   "source": [
    "## Step 4: Conclusion "
   ]
  },
  {
   "cell_type": "code",
   "execution_count": null,
   "metadata": {},
   "outputs": [],
   "source": [
    "We imported the module dataset from sklearn and apply the load_digits models on\n",
    "the test set and report its accuracy, weighted precision and weighted recall.\n",
    "Accuracy metrics score percentage of test data set classified correctly\n",
    "and easy to compare our models with other classification methods.\n",
    "In all the given case we got best result above 90% except\n",
    "method 3 (Gaussian kernel svm)average result comparing with other methods.\n",
    "Also the best method was the KNN in which we got 100% results with weighted precision and weighter recall.\n",
    "The model is suitable for solving the issues of classifying\n",
    "handwritten images in the dataset and for\n",
    "predicting the values for the test data set and evaluation of our model's predictions."
   ]
  }
 ],
 "metadata": {
  "kernelspec": {
   "display_name": "Python 3",
   "language": "python",
   "name": "python3"
  },
  "language_info": {
   "codemirror_mode": {
    "name": "ipython",
    "version": 3
   },
   "file_extension": ".py",
   "mimetype": "text/x-python",
   "name": "python",
   "nbconvert_exporter": "python",
   "pygments_lexer": "ipython3",
   "version": "3.7.3"
  }
 },
 "nbformat": 4,
 "nbformat_minor": 2
}
